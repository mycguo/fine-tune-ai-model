{
  "nbformat": 4,
  "nbformat_minor": 0,
  "metadata": {
    "colab": {
      "name": "Deploy Finetuned BERT : Youtube.ipynb",
      "provenance": []
    },
    "kernelspec": {
      "name": "python3",
      "display_name": "Python 3"
    },
    "language_info": {
      "name": "python"
    }
  },
  "cells": [
    {
      "cell_type": "markdown",
      "source": [
        "**Deploy Finetuned transformers (BERT) model**\n",
        "\n",
        "1.   Push model to huggingface hub\n",
        "2.   Deploy it on streamlit cloud\n",
        "\n"
      ],
      "metadata": {
        "id": "rRJbSQR17TDu"
      }
    },
    {
      "cell_type": "markdown",
      "source": [
        "**Why Push model on Huggingface Hub**\n",
        "\n",
        "\n",
        "\n",
        "*   Huggingface hub is like github for ML models\n",
        "*   Deployment Docker file will be smaller\n",
        "*   Updated or Re-trained model will be availabe without redeployement.\n",
        "\n",
        "\n",
        "\n"
      ],
      "metadata": {
        "id": "GsM3w4SAkpbF"
      }
    },
    {
      "cell_type": "code",
      "source": [
        "!pip install transformers"
      ],
      "metadata": {
        "id": "VwQzny2io-jX"
      },
      "execution_count": null,
      "outputs": []
    },
    {
      "cell_type": "code",
      "source": [
        "!pip install huggingface_hub"
      ],
      "metadata": {
        "id": "Td9xVZYyrkda"
      },
      "execution_count": null,
      "outputs": []
    },
    {
      "cell_type": "code",
      "source": [
        "import torch\n",
        "from transformers import BertTokenizer, BertForSequenceClassification"
      ],
      "metadata": {
        "id": "xJxSoQJBrifs"
      },
      "execution_count": null,
      "outputs": []
    },
    {
      "cell_type": "code",
      "source": [
        "# trainer.save_model('/content/drive/MyDrive/Youtube Tutorials/toxic')\n",
        "model = BertForSequenceClassification.from_pretrained(\"/content/drive/MyDrive/Youtube Tutorials/toxic\")\n",
        "# model.to('cuda')"
      ],
      "metadata": {
        "id": "Je-Tb9Mai4Xj"
      },
      "execution_count": null,
      "outputs": []
    },
    {
      "cell_type": "code",
      "source": [
        "from huggingface_hub import notebook_login\n",
        "\n",
        "notebook_login()"
      ],
      "metadata": {
        "id": "CeqXPlsfrspm"
      },
      "execution_count": null,
      "outputs": []
    },
    {
      "cell_type": "code",
      "source": [
        "model.push_to_hub(\"pnichite/YTFineTuneBert\")"
      ],
      "metadata": {
        "id": "YpDQdofurusS"
      },
      "execution_count": null,
      "outputs": []
    },
    {
      "cell_type": "code",
      "execution_count": null,
      "metadata": {
        "id": "3iYTeeahnUwD"
      },
      "outputs": [],
      "source": [
        "\n",
        "model = BertForSequenceClassification.from_pretrained(\"pnichite/YTFineTuneBert\")"
      ]
    },
    {
      "cell_type": "code",
      "source": [
        "model"
      ],
      "metadata": {
        "id": "BTWvbHXrHYwh"
      },
      "execution_count": null,
      "outputs": []
    },
    {
      "cell_type": "code",
      "source": [
        "model = BertForSequenceClassification.from_pretrained(\"pnichite/YTFineTuneBert\",use_auth_token='your auth token')"
      ],
      "metadata": {
        "id": "vHvb3zQGo_wN"
      },
      "execution_count": null,
      "outputs": []
    }
  ]
}